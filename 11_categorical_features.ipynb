{
 "cells": [
  {
   "cell_type": "code",
   "execution_count": 400,
   "metadata": {},
   "outputs": [],
   "source": [
    "import pandas as pd"
   ]
  },
  {
   "cell_type": "code",
   "execution_count": 399,
   "metadata": {},
   "outputs": [],
   "source": [
    "df = pd.read_csv('../data/sales.csv')"
   ]
  },
  {
   "cell_type": "code",
   "execution_count": 401,
   "metadata": {},
   "outputs": [],
   "source": [
    "df.dropna(subset=['price'], inplace=True)"
   ]
  },
  {
   "cell_type": "code",
   "execution_count": 402,
   "metadata": {},
   "outputs": [
    {
     "data": {
      "text/html": [
       "<div>\n",
       "<style scoped>\n",
       "    .dataframe tbody tr th:only-of-type {\n",
       "        vertical-align: middle;\n",
       "    }\n",
       "\n",
       "    .dataframe tbody tr th {\n",
       "        vertical-align: top;\n",
       "    }\n",
       "\n",
       "    .dataframe thead th {\n",
       "        text-align: right;\n",
       "    }\n",
       "</style>\n",
       "<table border=\"1\" class=\"dataframe\">\n",
       "  <thead>\n",
       "    <tr style=\"text-align: right;\">\n",
       "      <th></th>\n",
       "      <th>cost</th>\n",
       "      <th>price</th>\n",
       "      <th>weight</th>\n",
       "      <th>purchase_date</th>\n",
       "      <th>product_type</th>\n",
       "      <th>product_level</th>\n",
       "      <th>maker</th>\n",
       "      <th>ingredient</th>\n",
       "      <th>height</th>\n",
       "      <th>width</th>\n",
       "      <th>depth</th>\n",
       "    </tr>\n",
       "  </thead>\n",
       "  <tbody>\n",
       "    <tr>\n",
       "      <th>0</th>\n",
       "      <td>$333k</td>\n",
       "      <td>$300,492</td>\n",
       "      <td>3 Ton 90 Kg</td>\n",
       "      <td>Dec 19 2008</td>\n",
       "      <td>Q,B</td>\n",
       "      <td>advanced</td>\n",
       "      <td>M14122</td>\n",
       "      <td>IN732052,IN732053</td>\n",
       "      <td>2.76 meters</td>\n",
       "      <td>97 cm</td>\n",
       "      <td>26 cm</td>\n",
       "    </tr>\n",
       "    <tr>\n",
       "      <th>1</th>\n",
       "      <td>NaN</td>\n",
       "      <td>$430,570</td>\n",
       "      <td>3 Ton 30 Kg</td>\n",
       "      <td>Sep 10 1997</td>\n",
       "      <td>J,D</td>\n",
       "      <td>basic</td>\n",
       "      <td>NaN</td>\n",
       "      <td>IN732054,IN732055,IN732056,IN732057,IN732058</td>\n",
       "      <td>2.67 meters</td>\n",
       "      <td>98 cm</td>\n",
       "      <td>26 cm</td>\n",
       "    </tr>\n",
       "    <tr>\n",
       "      <th>2</th>\n",
       "      <td>$270k</td>\n",
       "      <td>$213,070</td>\n",
       "      <td>3 Ton 40 Kg</td>\n",
       "      <td>Sep 05 2001</td>\n",
       "      <td>J,D</td>\n",
       "      <td>basic</td>\n",
       "      <td>NaN</td>\n",
       "      <td>IN732054,IN732059,IN732060</td>\n",
       "      <td>3.0 meters</td>\n",
       "      <td>93 cm</td>\n",
       "      <td>24 cm</td>\n",
       "    </tr>\n",
       "    <tr>\n",
       "      <th>3</th>\n",
       "      <td>NaN</td>\n",
       "      <td>$229,174</td>\n",
       "      <td>3 Ton 50 Kg</td>\n",
       "      <td>Dec 23 2016</td>\n",
       "      <td>U</td>\n",
       "      <td>advanced</td>\n",
       "      <td>M14123</td>\n",
       "      <td>IN732061,IN732062,IN732063</td>\n",
       "      <td>2.5 meters</td>\n",
       "      <td>102 cm</td>\n",
       "      <td>27 cm</td>\n",
       "    </tr>\n",
       "    <tr>\n",
       "      <th>4</th>\n",
       "      <td>$97k</td>\n",
       "      <td>$122,659</td>\n",
       "      <td>2 Ton 970 Kg</td>\n",
       "      <td>Jan 12 2000</td>\n",
       "      <td>D,R</td>\n",
       "      <td>advanced</td>\n",
       "      <td>NaN</td>\n",
       "      <td>IN732064,IN732065,IN732066</td>\n",
       "      <td>2.47 meters</td>\n",
       "      <td>101 cm</td>\n",
       "      <td>26 cm</td>\n",
       "    </tr>\n",
       "  </tbody>\n",
       "</table>\n",
       "</div>"
      ],
      "text/plain": [
       "    cost     price        weight purchase_date product_type product_level  \\\n",
       "0  $333k  $300,492   3 Ton 90 Kg   Dec 19 2008          Q,B      advanced   \n",
       "1    NaN  $430,570   3 Ton 30 Kg   Sep 10 1997          J,D         basic   \n",
       "2  $270k  $213,070   3 Ton 40 Kg   Sep 05 2001          J,D         basic   \n",
       "3    NaN  $229,174   3 Ton 50 Kg   Dec 23 2016            U      advanced   \n",
       "4   $97k  $122,659  2 Ton 970 Kg   Jan 12 2000          D,R      advanced   \n",
       "\n",
       "    maker                                    ingredient       height   width  \\\n",
       "0  M14122                             IN732052,IN732053  2.76 meters   97 cm   \n",
       "1     NaN  IN732054,IN732055,IN732056,IN732057,IN732058  2.67 meters   98 cm   \n",
       "2     NaN                    IN732054,IN732059,IN732060   3.0 meters   93 cm   \n",
       "3  M14123                    IN732061,IN732062,IN732063   2.5 meters  102 cm   \n",
       "4     NaN                    IN732064,IN732065,IN732066  2.47 meters  101 cm   \n",
       "\n",
       "   depth  \n",
       "0  26 cm  \n",
       "1  26 cm  \n",
       "2  24 cm  \n",
       "3  27 cm  \n",
       "4  26 cm  "
      ]
     },
     "execution_count": 402,
     "metadata": {},
     "output_type": "execute_result"
    }
   ],
   "source": [
    "df.head()"
   ]
  },
  {
   "cell_type": "code",
   "execution_count": 324,
   "metadata": {},
   "outputs": [],
   "source": [
    "df['year'] = pd.to_datetime(df.purchase_date).dt.year\n",
    "\n",
    "train_raw = df[df.year < 2015].reset_index(drop=True)\n",
    "test_raw = df[df.year >= 2015].reset_index(drop=True)"
   ]
  },
  {
   "cell_type": "markdown",
   "metadata": {},
   "source": [
    "# 1. Dummy Transformer"
   ]
  },
  {
   "cell_type": "markdown",
   "metadata": {},
   "source": [
    "<font color='red'>Question:</font> What are dummy variables?"
   ]
  },
  {
   "cell_type": "markdown",
   "metadata": {},
   "source": [
    "Dummy variables are the main way that categorical variables are included as predictors in statistical and machine learning models. "
   ]
  },
  {
   "cell_type": "markdown",
   "metadata": {},
   "source": [
    "**Example:** Class to transform **product_level** to dummy variables. "
   ]
  },
  {
   "cell_type": "code",
   "execution_count": 47,
   "metadata": {},
   "outputs": [],
   "source": [
    "class Dummy_Transformer(object):\n",
    "    \n",
    "    def fit(self, X, y=None):\n",
    "        self.keys = set(X)\n",
    "    \n",
    "    def transform(self, X, y=None):\n",
    "        res = {}\n",
    "        for key in self.keys:\n",
    "            res[key] = [0]*len(X)    \n",
    "        for i, item in enumerate(X):\n",
    "            if item in self.keys:\n",
    "                res[item][i] = 1\n",
    "        return pd.DataFrame(res)\n",
    "    \n",
    "    def fit_transform(self, X, y=None):\n",
    "        self.fit(X)\n",
    "        return self.transform(X)        "
   ]
  },
  {
   "cell_type": "code",
   "execution_count": 48,
   "metadata": {},
   "outputs": [],
   "source": [
    "dummytf = Dummy_Transformer()"
   ]
  },
  {
   "cell_type": "code",
   "execution_count": 199,
   "metadata": {},
   "outputs": [
    {
     "data": {
      "text/html": [
       "<div>\n",
       "<style scoped>\n",
       "    .dataframe tbody tr th:only-of-type {\n",
       "        vertical-align: middle;\n",
       "    }\n",
       "\n",
       "    .dataframe tbody tr th {\n",
       "        vertical-align: top;\n",
       "    }\n",
       "\n",
       "    .dataframe thead th {\n",
       "        text-align: right;\n",
       "    }\n",
       "</style>\n",
       "<table border=\"1\" class=\"dataframe\">\n",
       "  <thead>\n",
       "    <tr style=\"text-align: right;\">\n",
       "      <th></th>\n",
       "      <th>basic</th>\n",
       "      <th>advanced</th>\n",
       "      <th>unrated</th>\n",
       "      <th>super advanced</th>\n",
       "      <th>intermediate</th>\n",
       "    </tr>\n",
       "  </thead>\n",
       "  <tbody>\n",
       "    <tr>\n",
       "      <th>0</th>\n",
       "      <td>0</td>\n",
       "      <td>1</td>\n",
       "      <td>0</td>\n",
       "      <td>0</td>\n",
       "      <td>0</td>\n",
       "    </tr>\n",
       "    <tr>\n",
       "      <th>1</th>\n",
       "      <td>1</td>\n",
       "      <td>0</td>\n",
       "      <td>0</td>\n",
       "      <td>0</td>\n",
       "      <td>0</td>\n",
       "    </tr>\n",
       "    <tr>\n",
       "      <th>2</th>\n",
       "      <td>1</td>\n",
       "      <td>0</td>\n",
       "      <td>0</td>\n",
       "      <td>0</td>\n",
       "      <td>0</td>\n",
       "    </tr>\n",
       "    <tr>\n",
       "      <th>3</th>\n",
       "      <td>0</td>\n",
       "      <td>1</td>\n",
       "      <td>0</td>\n",
       "      <td>0</td>\n",
       "      <td>0</td>\n",
       "    </tr>\n",
       "    <tr>\n",
       "      <th>4</th>\n",
       "      <td>0</td>\n",
       "      <td>1</td>\n",
       "      <td>0</td>\n",
       "      <td>0</td>\n",
       "      <td>0</td>\n",
       "    </tr>\n",
       "  </tbody>\n",
       "</table>\n",
       "</div>"
      ],
      "text/plain": [
       "   basic  advanced  unrated  super advanced  intermediate\n",
       "0      0         1        0               0             0\n",
       "1      1         0        0               0             0\n",
       "2      1         0        0               0             0\n",
       "3      0         1        0               0             0\n",
       "4      0         1        0               0             0"
      ]
     },
     "execution_count": 199,
     "metadata": {},
     "output_type": "execute_result"
    }
   ],
   "source": [
    "dummytf.fit_transform(df.product_level).head()"
   ]
  },
  {
   "cell_type": "markdown",
   "metadata": {},
   "source": [
    "<font color='red'>Assignment:</font> Wrap up the above dummy transformer with LinearRegression as pipeline to predict **price**. "
   ]
  },
  {
   "cell_type": "code",
   "execution_count": 27,
   "metadata": {},
   "outputs": [],
   "source": [
    "features = list(train_raw.columns)\n",
    "\n",
    "target = 'price'\n",
    "\n",
    "features.remove(target)\n",
    "def price2num(x):\n",
    "    if type(x) == str: \n",
    "        x = x.strip('$').replace(',', '')\n",
    "    return float(x)\n",
    "\n",
    "X_train = train_raw[features]\n",
    "y_train = train_raw[target].map(price2num)\n",
    "\n",
    "\n",
    "X_test = test_raw[features]\n",
    "y_test = test_raw[target].map(price2num)\n"
   ]
  },
  {
   "cell_type": "code",
   "execution_count": 14,
   "metadata": {},
   "outputs": [],
   "source": [
    "from sklearn.pipeline import Pipeline\n",
    "from sklearn.linear_model import LinearRegression\n",
    "from sklearn.preprocessing import PolynomialFeatures\n",
    "from sklearn.preprocessing import MinMaxScaler\n",
    "from sklearn.metrics import mean_absolute_error, mean_squared_error, r2_score"
   ]
  },
  {
   "cell_type": "code",
   "execution_count": 30,
   "metadata": {},
   "outputs": [],
   "source": [
    "steps = [('dummytf', Dummy_Transformer()),\n",
    "         ('poly', PolynomialFeatures(degree = 3)),\n",
    "         ('rescale', MinMaxScaler()),\n",
    "         ('lr',LinearRegression())]\n",
    "model = Pipeline(steps)\n",
    "model = model.fit(X_train, y_train)"
   ]
  },
  {
   "cell_type": "code",
   "execution_count": 32,
   "metadata": {},
   "outputs": [
    {
     "data": {
      "text/plain": [
       "array([  354543.79778745, -8363792.20221255,   723183.79778745, ...,\n",
       "         182511.79778745,   182511.79778745,   182511.79778745])"
      ]
     },
     "execution_count": 32,
     "metadata": {},
     "output_type": "execute_result"
    }
   ],
   "source": [
    "y_train_pred = model.predict(X_train)\n"
   ]
  },
  {
   "cell_type": "markdown",
   "metadata": {},
   "source": [
    "# 2. Frequence Transformer"
   ]
  },
  {
   "cell_type": "markdown",
   "metadata": {},
   "source": [
    "<font color='red'>Assignment:</font> Write a class to replace the categorical values in **product_level** with their frequencies."
   ]
  },
  {
   "cell_type": "code",
   "execution_count": 443,
   "metadata": {},
   "outputs": [],
   "source": [
    "\n",
    "class Freq_Transformer(object):\n",
    "    \n",
    "    def fit(self, X, y=None):\n",
    "        self.freq = dict(X.value_counts())\n",
    "   \n",
    "    def transform(self, X, y=None):  \n",
    "        return X.map(lambda x: self.freq[x])\n",
    "    \n",
    "    def fit_transform(self, X, y=None):\n",
    "        self.fit(X)\n",
    "        return self.transform(X) \n"
   ]
  },
  {
   "cell_type": "code",
   "execution_count": 445,
   "metadata": {},
   "outputs": [
    {
     "data": {
      "text/html": [
       "<div>\n",
       "<style scoped>\n",
       "    .dataframe tbody tr th:only-of-type {\n",
       "        vertical-align: middle;\n",
       "    }\n",
       "\n",
       "    .dataframe tbody tr th {\n",
       "        vertical-align: top;\n",
       "    }\n",
       "\n",
       "    .dataframe thead th {\n",
       "        text-align: right;\n",
       "    }\n",
       "</style>\n",
       "<table border=\"1\" class=\"dataframe\">\n",
       "  <thead>\n",
       "    <tr style=\"text-align: right;\">\n",
       "      <th></th>\n",
       "      <th>cost</th>\n",
       "      <th>price</th>\n",
       "      <th>weight</th>\n",
       "      <th>purchase_date</th>\n",
       "      <th>product_type</th>\n",
       "      <th>product_level</th>\n",
       "      <th>maker</th>\n",
       "      <th>ingredient</th>\n",
       "      <th>height</th>\n",
       "      <th>width</th>\n",
       "      <th>depth</th>\n",
       "      <th>year</th>\n",
       "    </tr>\n",
       "  </thead>\n",
       "  <tbody>\n",
       "    <tr>\n",
       "      <th>0</th>\n",
       "      <td>$333k</td>\n",
       "      <td>$300,492</td>\n",
       "      <td>3 Ton 90 Kg</td>\n",
       "      <td>Dec 19 2008</td>\n",
       "      <td>Q,B</td>\n",
       "      <td>advanced</td>\n",
       "      <td>M14122</td>\n",
       "      <td>IN732052,IN732053</td>\n",
       "      <td>2.76 meters</td>\n",
       "      <td>97 cm</td>\n",
       "      <td>26 cm</td>\n",
       "      <td>2008</td>\n",
       "    </tr>\n",
       "    <tr>\n",
       "      <th>1</th>\n",
       "      <td>NaN</td>\n",
       "      <td>$430,570</td>\n",
       "      <td>3 Ton 30 Kg</td>\n",
       "      <td>Sep 10 1997</td>\n",
       "      <td>J,D</td>\n",
       "      <td>basic</td>\n",
       "      <td>NaN</td>\n",
       "      <td>IN732054,IN732055,IN732056,IN732057,IN732058</td>\n",
       "      <td>2.67 meters</td>\n",
       "      <td>98 cm</td>\n",
       "      <td>26 cm</td>\n",
       "      <td>1997</td>\n",
       "    </tr>\n",
       "    <tr>\n",
       "      <th>2</th>\n",
       "      <td>$270k</td>\n",
       "      <td>$213,070</td>\n",
       "      <td>3 Ton 40 Kg</td>\n",
       "      <td>Sep 05 2001</td>\n",
       "      <td>J,D</td>\n",
       "      <td>basic</td>\n",
       "      <td>NaN</td>\n",
       "      <td>IN732054,IN732059,IN732060</td>\n",
       "      <td>3.0 meters</td>\n",
       "      <td>93 cm</td>\n",
       "      <td>24 cm</td>\n",
       "      <td>2001</td>\n",
       "    </tr>\n",
       "    <tr>\n",
       "      <th>3</th>\n",
       "      <td>NaN</td>\n",
       "      <td>$229,174</td>\n",
       "      <td>3 Ton 50 Kg</td>\n",
       "      <td>Dec 23 2016</td>\n",
       "      <td>U</td>\n",
       "      <td>advanced</td>\n",
       "      <td>M14123</td>\n",
       "      <td>IN732061,IN732062,IN732063</td>\n",
       "      <td>2.5 meters</td>\n",
       "      <td>102 cm</td>\n",
       "      <td>27 cm</td>\n",
       "      <td>2016</td>\n",
       "    </tr>\n",
       "    <tr>\n",
       "      <th>4</th>\n",
       "      <td>$97k</td>\n",
       "      <td>$122,659</td>\n",
       "      <td>2 Ton 970 Kg</td>\n",
       "      <td>Jan 12 2000</td>\n",
       "      <td>D,R</td>\n",
       "      <td>advanced</td>\n",
       "      <td>NaN</td>\n",
       "      <td>IN732064,IN732065,IN732066</td>\n",
       "      <td>2.47 meters</td>\n",
       "      <td>101 cm</td>\n",
       "      <td>26 cm</td>\n",
       "      <td>2000</td>\n",
       "    </tr>\n",
       "    <tr>\n",
       "      <th>...</th>\n",
       "      <td>...</td>\n",
       "      <td>...</td>\n",
       "      <td>...</td>\n",
       "      <td>...</td>\n",
       "      <td>...</td>\n",
       "      <td>...</td>\n",
       "      <td>...</td>\n",
       "      <td>...</td>\n",
       "      <td>...</td>\n",
       "      <td>...</td>\n",
       "      <td>...</td>\n",
       "      <td>...</td>\n",
       "    </tr>\n",
       "    <tr>\n",
       "      <th>3192</th>\n",
       "      <td>NaN</td>\n",
       "      <td>$93,349</td>\n",
       "      <td>3 Ton 0 Kg</td>\n",
       "      <td>Nov 25 2016</td>\n",
       "      <td>D</td>\n",
       "      <td>advanced</td>\n",
       "      <td>M14904</td>\n",
       "      <td>IN732490,IN732338,IN732503,IN732435,IN732583</td>\n",
       "      <td>2.02 meters</td>\n",
       "      <td>112 cm</td>\n",
       "      <td>29 cm</td>\n",
       "      <td>2016</td>\n",
       "    </tr>\n",
       "    <tr>\n",
       "      <th>3193</th>\n",
       "      <td>NaN</td>\n",
       "      <td>$40,384</td>\n",
       "      <td>2 Ton 830 Kg</td>\n",
       "      <td>May 25 2007</td>\n",
       "      <td>J,B</td>\n",
       "      <td>intermediate</td>\n",
       "      <td>M14578</td>\n",
       "      <td>IN732832,IN732166,IN733162,IN733785,IN732069,I...</td>\n",
       "      <td>2.15 meters</td>\n",
       "      <td>106 cm</td>\n",
       "      <td>28 cm</td>\n",
       "      <td>2007</td>\n",
       "    </tr>\n",
       "    <tr>\n",
       "      <th>3194</th>\n",
       "      <td>NaN</td>\n",
       "      <td>$1,074,844</td>\n",
       "      <td>3 Ton 80 Kg</td>\n",
       "      <td>Dec 16 2016</td>\n",
       "      <td>C</td>\n",
       "      <td>intermediate</td>\n",
       "      <td>M14883,M15011</td>\n",
       "      <td>IN733462,IN732654,IN732149,IN733067,IN734088,I...</td>\n",
       "      <td>2.84 meters</td>\n",
       "      <td>96 cm</td>\n",
       "      <td>25 cm</td>\n",
       "      <td>2016</td>\n",
       "    </tr>\n",
       "    <tr>\n",
       "      <th>3195</th>\n",
       "      <td>$44k</td>\n",
       "      <td>$55,931</td>\n",
       "      <td>2 Ton 950 Kg</td>\n",
       "      <td>Apr 12 2002</td>\n",
       "      <td>R</td>\n",
       "      <td>advanced</td>\n",
       "      <td>M14341</td>\n",
       "      <td>IN732587</td>\n",
       "      <td>2.52 meters</td>\n",
       "      <td>100 cm</td>\n",
       "      <td>26 cm</td>\n",
       "      <td>2002</td>\n",
       "    </tr>\n",
       "    <tr>\n",
       "      <th>3196</th>\n",
       "      <td>$128k</td>\n",
       "      <td>$44,370</td>\n",
       "      <td>2 Ton 980 Kg</td>\n",
       "      <td>Jun 13 2003</td>\n",
       "      <td>N</td>\n",
       "      <td>super advanced</td>\n",
       "      <td>NaN</td>\n",
       "      <td>NaN</td>\n",
       "      <td>2.96 meters</td>\n",
       "      <td>92 cm</td>\n",
       "      <td>24 cm</td>\n",
       "      <td>2003</td>\n",
       "    </tr>\n",
       "  </tbody>\n",
       "</table>\n",
       "<p>3186 rows × 12 columns</p>\n",
       "</div>"
      ],
      "text/plain": [
       "       cost       price        weight purchase_date product_type  \\\n",
       "0     $333k    $300,492   3 Ton 90 Kg   Dec 19 2008          Q,B   \n",
       "1       NaN    $430,570   3 Ton 30 Kg   Sep 10 1997          J,D   \n",
       "2     $270k    $213,070   3 Ton 40 Kg   Sep 05 2001          J,D   \n",
       "3       NaN    $229,174   3 Ton 50 Kg   Dec 23 2016            U   \n",
       "4      $97k    $122,659  2 Ton 970 Kg   Jan 12 2000          D,R   \n",
       "...     ...         ...           ...           ...          ...   \n",
       "3192    NaN     $93,349    3 Ton 0 Kg   Nov 25 2016            D   \n",
       "3193    NaN     $40,384  2 Ton 830 Kg   May 25 2007          J,B   \n",
       "3194    NaN  $1,074,844   3 Ton 80 Kg   Dec 16 2016            C   \n",
       "3195   $44k     $55,931  2 Ton 950 Kg   Apr 12 2002            R   \n",
       "3196  $128k     $44,370  2 Ton 980 Kg   Jun 13 2003            N   \n",
       "\n",
       "       product_level          maker  \\\n",
       "0           advanced         M14122   \n",
       "1              basic            NaN   \n",
       "2              basic            NaN   \n",
       "3           advanced         M14123   \n",
       "4           advanced            NaN   \n",
       "...              ...            ...   \n",
       "3192        advanced         M14904   \n",
       "3193    intermediate         M14578   \n",
       "3194    intermediate  M14883,M15011   \n",
       "3195        advanced         M14341   \n",
       "3196  super advanced            NaN   \n",
       "\n",
       "                                             ingredient       height   width  \\\n",
       "0                                     IN732052,IN732053  2.76 meters   97 cm   \n",
       "1          IN732054,IN732055,IN732056,IN732057,IN732058  2.67 meters   98 cm   \n",
       "2                            IN732054,IN732059,IN732060   3.0 meters   93 cm   \n",
       "3                            IN732061,IN732062,IN732063   2.5 meters  102 cm   \n",
       "4                            IN732064,IN732065,IN732066  2.47 meters  101 cm   \n",
       "...                                                 ...          ...     ...   \n",
       "3192       IN732490,IN732338,IN732503,IN732435,IN732583  2.02 meters  112 cm   \n",
       "3193  IN732832,IN732166,IN733162,IN733785,IN732069,I...  2.15 meters  106 cm   \n",
       "3194  IN733462,IN732654,IN732149,IN733067,IN734088,I...  2.84 meters   96 cm   \n",
       "3195                                           IN732587  2.52 meters  100 cm   \n",
       "3196                                                NaN  2.96 meters   92 cm   \n",
       "\n",
       "      depth  year  \n",
       "0     26 cm  2008  \n",
       "1     26 cm  1997  \n",
       "2     24 cm  2001  \n",
       "3     27 cm  2016  \n",
       "4     26 cm  2000  \n",
       "...     ...   ...  \n",
       "3192  29 cm  2016  \n",
       "3193  28 cm  2007  \n",
       "3194  25 cm  2016  \n",
       "3195  26 cm  2002  \n",
       "3196  24 cm  2003  \n",
       "\n",
       "[3186 rows x 12 columns]"
      ]
     },
     "execution_count": 445,
     "metadata": {},
     "output_type": "execute_result"
    }
   ],
   "source": [
    "df"
   ]
  },
  {
   "cell_type": "code",
   "execution_count": 444,
   "metadata": {},
   "outputs": [],
   "source": [
    "dfdrp = df[['price','product_level']].dropna()\n",
    "y = dfdrp['price'].map(price2num)\n",
    "freqtf = Freq_Transformer()\n",
    "X = freqtf.fit_transform(dfdrp['product_level'])\n",
    "\n"
   ]
  },
  {
   "cell_type": "markdown",
   "metadata": {},
   "source": [
    "<font color='red'>Assignment:</font> Plot the relationship between **product_level** frequencies and **price**."
   ]
  },
  {
   "cell_type": "code",
   "execution_count": 196,
   "metadata": {},
   "outputs": [
    {
     "data": {
      "text/plain": [
       "<matplotlib.axes._subplots.AxesSubplot at 0x2832d2e0408>"
      ]
     },
     "execution_count": 196,
     "metadata": {},
     "output_type": "execute_result"
    },
    {
     "data": {
      "image/png": "[encoded data removed]",
      "text/plain": [
       "<Figure size 432x288 with 1 Axes>"
      ]
     },
     "metadata": {
      "needs_background": "light"
     },
     "output_type": "display_data"
    }
   ],
   "source": [
    "import matplotlib.pylab as plt\n",
    "%matplotlib inline\n",
    "new = pd.concat([X, y], axis=1)\n",
    "sns.boxplot(x='product_level', y='price', data=new)\n"
   ]
  },
  {
   "cell_type": "markdown",
   "metadata": {},
   "source": [
    "# 3. Ordinal Transformer"
   ]
  },
  {
   "cell_type": "markdown",
   "metadata": {},
   "source": [
    "<font color='red'>Assignment:</font> The relationships between the values in **product_level** can be represented by ordinal numbers. Write a class to replace the level values with their ordinal numbers."
   ]
  },
  {
   "cell_type": "code",
   "execution_count": 448,
   "metadata": {},
   "outputs": [
    {
     "data": {
      "text/html": [
       "<div>\n",
       "<style scoped>\n",
       "    .dataframe tbody tr th:only-of-type {\n",
       "        vertical-align: middle;\n",
       "    }\n",
       "\n",
       "    .dataframe tbody tr th {\n",
       "        vertical-align: top;\n",
       "    }\n",
       "\n",
       "    .dataframe thead th {\n",
       "        text-align: right;\n",
       "    }\n",
       "</style>\n",
       "<table border=\"1\" class=\"dataframe\">\n",
       "  <thead>\n",
       "    <tr style=\"text-align: right;\">\n",
       "      <th></th>\n",
       "      <th>cost</th>\n",
       "      <th>price</th>\n",
       "      <th>weight</th>\n",
       "      <th>purchase_date</th>\n",
       "      <th>product_type</th>\n",
       "      <th>product_level</th>\n",
       "      <th>maker</th>\n",
       "      <th>ingredient</th>\n",
       "      <th>height</th>\n",
       "      <th>width</th>\n",
       "      <th>depth</th>\n",
       "      <th>year</th>\n",
       "    </tr>\n",
       "  </thead>\n",
       "  <tbody>\n",
       "    <tr>\n",
       "      <th>0</th>\n",
       "      <td>$333k</td>\n",
       "      <td>$300,492</td>\n",
       "      <td>3 Ton 90 Kg</td>\n",
       "      <td>Dec 19 2008</td>\n",
       "      <td>Q,B</td>\n",
       "      <td>advanced</td>\n",
       "      <td>M14122</td>\n",
       "      <td>IN732052,IN732053</td>\n",
       "      <td>2.76 meters</td>\n",
       "      <td>97 cm</td>\n",
       "      <td>26 cm</td>\n",
       "      <td>2008</td>\n",
       "    </tr>\n",
       "    <tr>\n",
       "      <th>1</th>\n",
       "      <td>NaN</td>\n",
       "      <td>$430,570</td>\n",
       "      <td>3 Ton 30 Kg</td>\n",
       "      <td>Sep 10 1997</td>\n",
       "      <td>J,D</td>\n",
       "      <td>basic</td>\n",
       "      <td>NaN</td>\n",
       "      <td>IN732054,IN732055,IN732056,IN732057,IN732058</td>\n",
       "      <td>2.67 meters</td>\n",
       "      <td>98 cm</td>\n",
       "      <td>26 cm</td>\n",
       "      <td>1997</td>\n",
       "    </tr>\n",
       "    <tr>\n",
       "      <th>2</th>\n",
       "      <td>$270k</td>\n",
       "      <td>$213,070</td>\n",
       "      <td>3 Ton 40 Kg</td>\n",
       "      <td>Sep 05 2001</td>\n",
       "      <td>J,D</td>\n",
       "      <td>basic</td>\n",
       "      <td>NaN</td>\n",
       "      <td>IN732054,IN732059,IN732060</td>\n",
       "      <td>3.0 meters</td>\n",
       "      <td>93 cm</td>\n",
       "      <td>24 cm</td>\n",
       "      <td>2001</td>\n",
       "    </tr>\n",
       "    <tr>\n",
       "      <th>3</th>\n",
       "      <td>$97k</td>\n",
       "      <td>$122,659</td>\n",
       "      <td>2 Ton 970 Kg</td>\n",
       "      <td>Jan 12 2000</td>\n",
       "      <td>D,R</td>\n",
       "      <td>advanced</td>\n",
       "      <td>NaN</td>\n",
       "      <td>IN732064,IN732065,IN732066</td>\n",
       "      <td>2.47 meters</td>\n",
       "      <td>101 cm</td>\n",
       "      <td>26 cm</td>\n",
       "      <td>2000</td>\n",
       "    </tr>\n",
       "    <tr>\n",
       "      <th>4</th>\n",
       "      <td>$59k</td>\n",
       "      <td>$60,320</td>\n",
       "      <td>2 Ton 930 Kg</td>\n",
       "      <td>Aug 19 2011</td>\n",
       "      <td>H</td>\n",
       "      <td>super advanced</td>\n",
       "      <td>M14124</td>\n",
       "      <td>IN732067,IN732068,IN732069,IN732070,IN732071,I...</td>\n",
       "      <td>2.71 meters</td>\n",
       "      <td>96 cm</td>\n",
       "      <td>25 cm</td>\n",
       "      <td>2011</td>\n",
       "    </tr>\n",
       "    <tr>\n",
       "      <th>...</th>\n",
       "      <td>...</td>\n",
       "      <td>...</td>\n",
       "      <td>...</td>\n",
       "      <td>...</td>\n",
       "      <td>...</td>\n",
       "      <td>...</td>\n",
       "      <td>...</td>\n",
       "      <td>...</td>\n",
       "      <td>...</td>\n",
       "      <td>...</td>\n",
       "      <td>...</td>\n",
       "      <td>...</td>\n",
       "    </tr>\n",
       "    <tr>\n",
       "      <th>2752</th>\n",
       "      <td>$254k</td>\n",
       "      <td>$255,179</td>\n",
       "      <td>3 Ton 40 Kg</td>\n",
       "      <td>Apr 20 2012</td>\n",
       "      <td>D</td>\n",
       "      <td>intermediate</td>\n",
       "      <td>M14261</td>\n",
       "      <td>IN732220,IN732456,IN733681,IN732831,IN733123,I...</td>\n",
       "      <td>2.02 meters</td>\n",
       "      <td>113 cm</td>\n",
       "      <td>30 cm</td>\n",
       "      <td>2012</td>\n",
       "    </tr>\n",
       "    <tr>\n",
       "      <th>2753</th>\n",
       "      <td>$91k</td>\n",
       "      <td>$144,631</td>\n",
       "      <td>2 Ton 890 Kg</td>\n",
       "      <td>Jul 12 2002</td>\n",
       "      <td>D</td>\n",
       "      <td>advanced</td>\n",
       "      <td>M14904</td>\n",
       "      <td>IN732503,IN732583,IN732373,IN732338,IN732347,I...</td>\n",
       "      <td>2.52 meters</td>\n",
       "      <td>99 cm</td>\n",
       "      <td>26 cm</td>\n",
       "      <td>2002</td>\n",
       "    </tr>\n",
       "    <tr>\n",
       "      <th>2754</th>\n",
       "      <td>NaN</td>\n",
       "      <td>$40,384</td>\n",
       "      <td>2 Ton 830 Kg</td>\n",
       "      <td>May 25 2007</td>\n",
       "      <td>J,B</td>\n",
       "      <td>intermediate</td>\n",
       "      <td>M14578</td>\n",
       "      <td>IN732832,IN732166,IN733162,IN733785,IN732069,I...</td>\n",
       "      <td>2.15 meters</td>\n",
       "      <td>106 cm</td>\n",
       "      <td>28 cm</td>\n",
       "      <td>2007</td>\n",
       "    </tr>\n",
       "    <tr>\n",
       "      <th>2755</th>\n",
       "      <td>$44k</td>\n",
       "      <td>$55,931</td>\n",
       "      <td>2 Ton 950 Kg</td>\n",
       "      <td>Apr 12 2002</td>\n",
       "      <td>R</td>\n",
       "      <td>advanced</td>\n",
       "      <td>M14341</td>\n",
       "      <td>IN732587</td>\n",
       "      <td>2.52 meters</td>\n",
       "      <td>100 cm</td>\n",
       "      <td>26 cm</td>\n",
       "      <td>2002</td>\n",
       "    </tr>\n",
       "    <tr>\n",
       "      <th>2756</th>\n",
       "      <td>$128k</td>\n",
       "      <td>$44,370</td>\n",
       "      <td>2 Ton 980 Kg</td>\n",
       "      <td>Jun 13 2003</td>\n",
       "      <td>N</td>\n",
       "      <td>super advanced</td>\n",
       "      <td>NaN</td>\n",
       "      <td>NaN</td>\n",
       "      <td>2.96 meters</td>\n",
       "      <td>92 cm</td>\n",
       "      <td>24 cm</td>\n",
       "      <td>2003</td>\n",
       "    </tr>\n",
       "  </tbody>\n",
       "</table>\n",
       "<p>2757 rows × 12 columns</p>\n",
       "</div>"
      ],
      "text/plain": [
       "       cost     price        weight purchase_date product_type  \\\n",
       "0     $333k  $300,492   3 Ton 90 Kg   Dec 19 2008          Q,B   \n",
       "1       NaN  $430,570   3 Ton 30 Kg   Sep 10 1997          J,D   \n",
       "2     $270k  $213,070   3 Ton 40 Kg   Sep 05 2001          J,D   \n",
       "3      $97k  $122,659  2 Ton 970 Kg   Jan 12 2000          D,R   \n",
       "4      $59k   $60,320  2 Ton 930 Kg   Aug 19 2011            H   \n",
       "...     ...       ...           ...           ...          ...   \n",
       "2752  $254k  $255,179   3 Ton 40 Kg   Apr 20 2012            D   \n",
       "2753   $91k  $144,631  2 Ton 890 Kg   Jul 12 2002            D   \n",
       "2754    NaN   $40,384  2 Ton 830 Kg   May 25 2007          J,B   \n",
       "2755   $44k   $55,931  2 Ton 950 Kg   Apr 12 2002            R   \n",
       "2756  $128k   $44,370  2 Ton 980 Kg   Jun 13 2003            N   \n",
       "\n",
       "       product_level   maker  \\\n",
       "0           advanced  M14122   \n",
       "1              basic     NaN   \n",
       "2              basic     NaN   \n",
       "3           advanced     NaN   \n",
       "4     super advanced  M14124   \n",
       "...              ...     ...   \n",
       "2752    intermediate  M14261   \n",
       "2753        advanced  M14904   \n",
       "2754    intermediate  M14578   \n",
       "2755        advanced  M14341   \n",
       "2756  super advanced     NaN   \n",
       "\n",
       "                                             ingredient       height   width  \\\n",
       "0                                     IN732052,IN732053  2.76 meters   97 cm   \n",
       "1          IN732054,IN732055,IN732056,IN732057,IN732058  2.67 meters   98 cm   \n",
       "2                            IN732054,IN732059,IN732060   3.0 meters   93 cm   \n",
       "3                            IN732064,IN732065,IN732066  2.47 meters  101 cm   \n",
       "4     IN732067,IN732068,IN732069,IN732070,IN732071,I...  2.71 meters   96 cm   \n",
       "...                                                 ...          ...     ...   \n",
       "2752  IN732220,IN732456,IN733681,IN732831,IN733123,I...  2.02 meters  113 cm   \n",
       "2753  IN732503,IN732583,IN732373,IN732338,IN732347,I...  2.52 meters   99 cm   \n",
       "2754  IN732832,IN732166,IN733162,IN733785,IN732069,I...  2.15 meters  106 cm   \n",
       "2755                                           IN732587  2.52 meters  100 cm   \n",
       "2756                                                NaN  2.96 meters   92 cm   \n",
       "\n",
       "      depth  year  \n",
       "0     26 cm  2008  \n",
       "1     26 cm  1997  \n",
       "2     24 cm  2001  \n",
       "3     26 cm  2000  \n",
       "4     25 cm  2011  \n",
       "...     ...   ...  \n",
       "2752  30 cm  2012  \n",
       "2753  26 cm  2002  \n",
       "2754  28 cm  2007  \n",
       "2755  26 cm  2002  \n",
       "2756  24 cm  2003  \n",
       "\n",
       "[2757 rows x 12 columns]"
      ]
     },
     "execution_count": 448,
     "metadata": {},
     "output_type": "execute_result"
    }
   ],
   "source": [
    "train_raw"
   ]
  },
  {
   "cell_type": "code",
   "execution_count": 449,
   "metadata": {},
   "outputs": [],
   "source": [
    "class Ord_Transformer(object):\n",
    "    \n",
    "    def fit(self, X, y=None):\n",
    "        self.ord = {'unrated':0, 'basic':1, 'intermediate':2, 'advanced':3, 'super advanced':4}\n",
    "        \n",
    "    def transform(self, X, y=None):  \n",
    "        return X.map(lambda x: self.ord[x])\n",
    "    \n",
    "    def fit_transform(self, X, y=None):\n",
    "        self.fit(X)\n",
    "        return self.transform(X) "
   ]
  },
  {
   "cell_type": "code",
   "execution_count": 315,
   "metadata": {},
   "outputs": [],
   "source": [
    "ordtf = Ord_Transformer()"
   ]
  },
  {
   "cell_type": "code",
   "execution_count": 450,
   "metadata": {},
   "outputs": [],
   "source": [
    "dfdrp = df[['price','product_level']].dropna()\n",
    "y = dfdrp['price'].map(price2num)\n",
    "ordtf.fit_transform(dfdrp.product_level).head()\n",
    "X = ordtf.fit_transform(dfdrp['product_level'])\n"
   ]
  },
  {
   "cell_type": "markdown",
   "metadata": {},
   "source": [
    "<font color='red'>Assignment:</font> Plot the relationship between **product_level** ordinal numbers and **price**."
   ]
  },
  {
   "cell_type": "code",
   "execution_count": 451,
   "metadata": {},
   "outputs": [
    {
     "data": {
      "text/plain": [
       "<matplotlib.axes._subplots.AxesSubplot at 0x2832e944448>"
      ]
     },
     "execution_count": 451,
     "metadata": {},
     "output_type": "execute_result"
    },
    {
     "data": {
      "image/png": "[encoded data removed]",
      "text/plain": [
       "<Figure size 432x288 with 1 Axes>"
      ]
     },
     "metadata": {
      "needs_background": "light"
     },
     "output_type": "display_data"
    }
   ],
   "source": [
    "import matplotlib.pylab as plt\n",
    "%matplotlib inline\n",
    "new = pd.concat([X, y], axis=1)\n",
    "sns.boxplot(x='product_level', y='price', data=new)\n"
   ]
  },
  {
   "cell_type": "markdown",
   "metadata": {},
   "source": [
    "# 4. Text Vectorization"
   ]
  },
  {
   "cell_type": "markdown",
   "metadata": {},
   "source": [
    "Column **ingredient** is more complex. There are missing values. And also many rows contains multiple ingredients."
   ]
  },
  {
   "cell_type": "markdown",
   "metadata": {},
   "source": [
    "## 4.1 Missing values"
   ]
  },
  {
   "cell_type": "markdown",
   "metadata": {},
   "source": [
    "<font color='red'>Assignment:</font> In **train_raw**, impute the missing values in **ingredient** as **unknown_ingredient**, and assign the imputed **ingredient** to a variable **train_imputed_ingredient**."
   ]
  },
  {
   "cell_type": "code",
   "execution_count": 410,
   "metadata": {},
   "outputs": [],
   "source": [
    "train_imputed_ingredient=train_raw['ingredient'].fillna(value=\"unknown_ingredient\")\n"
   ]
  },
  {
   "cell_type": "markdown",
   "metadata": {},
   "source": [
    "<font color='red'>Questions:</font> What are other ways to impute or handle missing categorical values? What are the good ways to handle different amounts of missing categorical values, like a few lines, a small fraction (say 2%), a considerable fraction (say 30%), and majority (say 95%)?"
   ]
  },
  {
   "cell_type": "raw",
   "metadata": {},
   "source": [
    "Ignore observation (small fraction (say 2%)）\n",
    "Replace by most frequent value （say 30%)\n",
    "Replace using an algorithm like KNN using the neighbours.\n",
    "Predict the observation using a multiclass predictor."
   ]
  },
  {
   "cell_type": "raw",
   "metadata": {},
   "source": [
    "## 4.2 Countvectorizer"
   ]
  },
  {
   "cell_type": "markdown",
   "metadata": {},
   "source": [
    "**Example:** Import **CountVectorizer**"
   ]
  },
  {
   "cell_type": "code",
   "execution_count": 406,
   "metadata": {},
   "outputs": [],
   "source": [
    "from sklearn.feature_extraction.text import CountVectorizer"
   ]
  },
  {
   "cell_type": "markdown",
   "metadata": {},
   "source": [
    "<font color='red'>Assignment:</font> Fit and transform **train_imputed_ingredient** using **CountVectorizer**. Assign the output to **X_train**."
   ]
  },
  {
   "cell_type": "code",
   "execution_count": 414,
   "metadata": {},
   "outputs": [],
   "source": [
    "\n",
    "cv = CountVectorizer()\n",
    "#train_imputed_ingredient\n",
    "X_train = cv.fit_transform(train_imputed_ingredient)\n"
   ]
  },
  {
   "cell_type": "markdown",
   "metadata": {},
   "source": [
    "<font color='red'>Assignment:</font> Get the type and shape of **X_train**. "
   ]
  },
  {
   "cell_type": "code",
   "execution_count": 416,
   "metadata": {},
   "outputs": [
    {
     "data": {
      "text/plain": [
       "scipy.sparse.csr.csr_matrix"
      ]
     },
     "execution_count": 416,
     "metadata": {},
     "output_type": "execute_result"
    }
   ],
   "source": [
    "type(X_train)"
   ]
  },
  {
   "cell_type": "markdown",
   "metadata": {},
   "source": [
    "<font color='red'>Question:</font> What is a sparse matrix?"
   ]
  },
  {
   "cell_type": "markdown",
   "metadata": {},
   "source": [
    " The sparse matrix representation outputs the row-column tuple where the matrix contains non-zero values along with those values."
   ]
  },
  {
   "cell_type": "markdown",
   "metadata": {},
   "source": [
    "**Example**: Assign the output of **ingredient** generated with **CountVectorizer** to a DataFrame named **train_ingredient_df**, name the columns with features. "
   ]
  },
  {
   "cell_type": "code",
   "execution_count": 417,
   "metadata": {},
   "outputs": [
    {
     "data": {
      "text/html": [
       "<div>\n",
       "<style scoped>\n",
       "    .dataframe tbody tr th:only-of-type {\n",
       "        vertical-align: middle;\n",
       "    }\n",
       "\n",
       "    .dataframe tbody tr th {\n",
       "        vertical-align: top;\n",
       "    }\n",
       "\n",
       "    .dataframe thead th {\n",
       "        text-align: right;\n",
       "    }\n",
       "</style>\n",
       "<table border=\"1\" class=\"dataframe\">\n",
       "  <thead>\n",
       "    <tr style=\"text-align: right;\">\n",
       "      <th></th>\n",
       "      <th>in732052</th>\n",
       "      <th>in732053</th>\n",
       "      <th>in732054</th>\n",
       "      <th>in732055</th>\n",
       "      <th>in732056</th>\n",
       "      <th>in732057</th>\n",
       "      <th>in732058</th>\n",
       "      <th>in732059</th>\n",
       "      <th>in732060</th>\n",
       "      <th>in732061</th>\n",
       "      <th>...</th>\n",
       "      <th>in734073</th>\n",
       "      <th>in734074</th>\n",
       "      <th>in734075</th>\n",
       "      <th>in734076</th>\n",
       "      <th>in734079</th>\n",
       "      <th>in734080</th>\n",
       "      <th>in734081</th>\n",
       "      <th>in734086</th>\n",
       "      <th>in734087</th>\n",
       "      <th>unknown_ingredient</th>\n",
       "    </tr>\n",
       "  </thead>\n",
       "  <tbody>\n",
       "    <tr>\n",
       "      <th>0</th>\n",
       "      <td>1</td>\n",
       "      <td>1</td>\n",
       "      <td>0</td>\n",
       "      <td>0</td>\n",
       "      <td>0</td>\n",
       "      <td>0</td>\n",
       "      <td>0</td>\n",
       "      <td>0</td>\n",
       "      <td>0</td>\n",
       "      <td>0</td>\n",
       "      <td>...</td>\n",
       "      <td>0</td>\n",
       "      <td>0</td>\n",
       "      <td>0</td>\n",
       "      <td>0</td>\n",
       "      <td>0</td>\n",
       "      <td>0</td>\n",
       "      <td>0</td>\n",
       "      <td>0</td>\n",
       "      <td>0</td>\n",
       "      <td>0</td>\n",
       "    </tr>\n",
       "    <tr>\n",
       "      <th>1</th>\n",
       "      <td>0</td>\n",
       "      <td>0</td>\n",
       "      <td>1</td>\n",
       "      <td>1</td>\n",
       "      <td>1</td>\n",
       "      <td>1</td>\n",
       "      <td>1</td>\n",
       "      <td>0</td>\n",
       "      <td>0</td>\n",
       "      <td>0</td>\n",
       "      <td>...</td>\n",
       "      <td>0</td>\n",
       "      <td>0</td>\n",
       "      <td>0</td>\n",
       "      <td>0</td>\n",
       "      <td>0</td>\n",
       "      <td>0</td>\n",
       "      <td>0</td>\n",
       "      <td>0</td>\n",
       "      <td>0</td>\n",
       "      <td>0</td>\n",
       "    </tr>\n",
       "    <tr>\n",
       "      <th>2</th>\n",
       "      <td>0</td>\n",
       "      <td>0</td>\n",
       "      <td>1</td>\n",
       "      <td>0</td>\n",
       "      <td>0</td>\n",
       "      <td>0</td>\n",
       "      <td>0</td>\n",
       "      <td>1</td>\n",
       "      <td>1</td>\n",
       "      <td>0</td>\n",
       "      <td>...</td>\n",
       "      <td>0</td>\n",
       "      <td>0</td>\n",
       "      <td>0</td>\n",
       "      <td>0</td>\n",
       "      <td>0</td>\n",
       "      <td>0</td>\n",
       "      <td>0</td>\n",
       "      <td>0</td>\n",
       "      <td>0</td>\n",
       "      <td>0</td>\n",
       "    </tr>\n",
       "    <tr>\n",
       "      <th>3</th>\n",
       "      <td>0</td>\n",
       "      <td>0</td>\n",
       "      <td>0</td>\n",
       "      <td>0</td>\n",
       "      <td>0</td>\n",
       "      <td>0</td>\n",
       "      <td>0</td>\n",
       "      <td>0</td>\n",
       "      <td>0</td>\n",
       "      <td>0</td>\n",
       "      <td>...</td>\n",
       "      <td>0</td>\n",
       "      <td>0</td>\n",
       "      <td>0</td>\n",
       "      <td>0</td>\n",
       "      <td>0</td>\n",
       "      <td>0</td>\n",
       "      <td>0</td>\n",
       "      <td>0</td>\n",
       "      <td>0</td>\n",
       "      <td>0</td>\n",
       "    </tr>\n",
       "    <tr>\n",
       "      <th>4</th>\n",
       "      <td>0</td>\n",
       "      <td>0</td>\n",
       "      <td>0</td>\n",
       "      <td>0</td>\n",
       "      <td>0</td>\n",
       "      <td>0</td>\n",
       "      <td>0</td>\n",
       "      <td>0</td>\n",
       "      <td>0</td>\n",
       "      <td>0</td>\n",
       "      <td>...</td>\n",
       "      <td>0</td>\n",
       "      <td>0</td>\n",
       "      <td>0</td>\n",
       "      <td>0</td>\n",
       "      <td>0</td>\n",
       "      <td>0</td>\n",
       "      <td>0</td>\n",
       "      <td>0</td>\n",
       "      <td>0</td>\n",
       "      <td>0</td>\n",
       "    </tr>\n",
       "  </tbody>\n",
       "</table>\n",
       "<p>5 rows × 1858 columns</p>\n",
       "</div>"
      ],
      "text/plain": [
       "   in732052  in732053  in732054  in732055  in732056  in732057  in732058  \\\n",
       "0         1         1         0         0         0         0         0   \n",
       "1         0         0         1         1         1         1         1   \n",
       "2         0         0         1         0         0         0         0   \n",
       "3         0         0         0         0         0         0         0   \n",
       "4         0         0         0         0         0         0         0   \n",
       "\n",
       "   in732059  in732060  in732061  ...  in734073  in734074  in734075  in734076  \\\n",
       "0         0         0         0  ...         0         0         0         0   \n",
       "1         0         0         0  ...         0         0         0         0   \n",
       "2         1         1         0  ...         0         0         0         0   \n",
       "3         0         0         0  ...         0         0         0         0   \n",
       "4         0         0         0  ...         0         0         0         0   \n",
       "\n",
       "   in734079  in734080  in734081  in734086  in734087  unknown_ingredient  \n",
       "0         0         0         0         0         0                   0  \n",
       "1         0         0         0         0         0                   0  \n",
       "2         0         0         0         0         0                   0  \n",
       "3         0         0         0         0         0                   0  \n",
       "4         0         0         0         0         0                   0  \n",
       "\n",
       "[5 rows x 1858 columns]"
      ]
     },
     "execution_count": 417,
     "metadata": {},
     "output_type": "execute_result"
    }
   ],
   "source": [
    "train_ingredient_df = pd.DataFrame(X_train.todense())\n",
    "train_ingredient_df = train_ingredient_df.rename(columns={v: k for k, v in cv.vocabulary_.items()})\n",
    "train_ingredient_df.head()"
   ]
  },
  {
   "cell_type": "markdown",
   "metadata": {},
   "source": [
    "<font color='red'>Assignment:</font> Train a new model using **Pipeline** to wrap up **CountVectorizer** and **LinearRegression** to predict **price**, and get both the train and test scores."
   ]
  },
  {
   "cell_type": "code",
   "execution_count": 452,
   "metadata": {},
   "outputs": [
    {
     "data": {
      "text/plain": [
       "0                                       IN732052,IN732053\n",
       "1            IN732054,IN732055,IN732056,IN732057,IN732058\n",
       "2                              IN732054,IN732059,IN732060\n",
       "3                              IN732064,IN732065,IN732066\n",
       "4       IN732067,IN732068,IN732069,IN732070,IN732071,I...\n",
       "                              ...                        \n",
       "2752    IN732220,IN732456,IN733681,IN732831,IN733123,I...\n",
       "2753    IN732503,IN732583,IN732373,IN732338,IN732347,I...\n",
       "2754    IN732832,IN732166,IN733162,IN733785,IN732069,I...\n",
       "2755                                             IN732587\n",
       "2756                                   unknown_ingredient\n",
       "Name: ingredient, Length: 2757, dtype: object"
      ]
     },
     "execution_count": 452,
     "metadata": {},
     "output_type": "execute_result"
    }
   ],
   "source": [
    "df['year'] = pd.to_datetime(df.purchase_date).dt.year\n",
    "\n",
    "train_raw = df[df.year < 2015].reset_index(drop=True)\n",
    "test_raw = df[df.year >= 2015].reset_index(drop=True)\n",
    "\n",
    "X_train=train_raw['ingredient'].fillna(value=\"unknown_ingredient\")\n",
    "\n",
    "X_train\n",
    "#y_train"
   ]
  },
  {
   "cell_type": "code",
   "execution_count": 431,
   "metadata": {},
   "outputs": [],
   "source": [
    "from sklearn.pipeline import Pipeline\n",
    "from sklearn.preprocessing import MinMaxScaler\n",
    "from sklearn.linear_model import LinearRegression\n",
    "\n",
    "\n",
    "steps = [('cv', CountVectorizer()),\n",
    "         ('lr', LinearRegression())]\n",
    "model = Pipeline(steps)\n",
    "model = model.fit(X_train, y_train)\n",
    "y_pred_train = model.predict(X_train)"
   ]
  },
  {
   "cell_type": "code",
   "execution_count": 435,
   "metadata": {},
   "outputs": [
    {
     "name": "stdout",
     "output_type": "stream",
     "text": [
      "train MAE: 1.53e+05\n",
      "train MSE: 1.89e+11\n",
      "train R2: -3.433\n"
     ]
    }
   ],
   "source": [
    "from sklearn.metrics import mean_absolute_error, mean_squared_error, r2_score\n",
    "print('train MAE: {0:.2e}'.format(mean_absolute_error(y_train, y_train_pred)))\n",
    "print('train MSE: {0:.2e}'.format(mean_squared_error(y_train, y_train_pred)))\n",
    "print('train R2: {0:.3f}'.format(r2_score(y_train, y_train_pred)))"
   ]
  },
  {
   "cell_type": "code",
   "execution_count": 438,
   "metadata": {},
   "outputs": [
    {
     "data": {
      "text/plain": [
       "0                             IN732061,IN732062,IN732063\n",
       "1           IN732088,IN732089,IN732090,IN732091,IN732092\n",
       "2      IN732121,IN732122,IN732126,IN732134,IN732135,I...\n",
       "3                                     unknown_ingredient\n",
       "4                                      IN732118,IN732240\n",
       "                             ...                        \n",
       "424         IN732650,IN732433,IN732336,IN732386,IN733795\n",
       "425                           IN733176,IN734084,IN732282\n",
       "426    IN732755,IN732652,IN732077,IN732536,IN732330,I...\n",
       "427         IN732490,IN732338,IN732503,IN732435,IN732583\n",
       "428    IN733462,IN732654,IN732149,IN733067,IN734088,I...\n",
       "Name: ingredient, Length: 429, dtype: object"
      ]
     },
     "execution_count": 438,
     "metadata": {},
     "output_type": "execute_result"
    }
   ],
   "source": [
    "X_test=test_raw['ingredient'].fillna(value=\"unknown_ingredient\")\n",
    "X_test"
   ]
  },
  {
   "cell_type": "code",
   "execution_count": 437,
   "metadata": {},
   "outputs": [
    {
     "data": {
      "text/plain": [
       "0       229174.0\n",
       "1       168762.0\n",
       "2       605022.0\n",
       "3         4444.0\n",
       "4        17932.0\n",
       "         ...    \n",
       "424     107358.0\n",
       "425      47939.0\n",
       "426     491055.0\n",
       "427      93349.0\n",
       "428    1074844.0\n",
       "Name: price, Length: 429, dtype: float64"
      ]
     },
     "execution_count": 437,
     "metadata": {},
     "output_type": "execute_result"
    }
   ],
   "source": [
    "y_test"
   ]
  },
  {
   "cell_type": "code",
   "execution_count": 441,
   "metadata": {},
   "outputs": [],
   "source": [
    "y_test_pred = model.predict(X_test)"
   ]
  },
  {
   "cell_type": "code",
   "execution_count": 442,
   "metadata": {},
   "outputs": [
    {
     "name": "stdout",
     "output_type": "stream",
     "text": [
      "test MAE: 4.65e+05\n",
      "test MSE: 5.47e+11\n",
      "test R2: -5.347\n"
     ]
    }
   ],
   "source": [
    "print('test MAE: {0:.2e}'.format(mean_absolute_error(y_test, y_test_pred)))\n",
    "print('test MSE: {0:.2e}'.format(mean_squared_error(y_test, y_test_pred)))\n",
    "print('test R2: {0:.3f}'.format(r2_score(y_test, y_test_pred)))"
   ]
  },
  {
   "cell_type": "code",
   "execution_count": null,
   "metadata": {},
   "outputs": [],
   "source": []
  }
 ],
 "metadata": {
  "kernelspec": {
   "display_name": "Python 3",
   "language": "python",
   "name": "python3"
  },
  "language_info": {
   "codemirror_mode": {
    "name": "ipython",
    "version": 3
   },
   "file_extension": ".py",
   "mimetype": "text/x-python",
   "name": "python",
   "nbconvert_exporter": "python",
   "pygments_lexer": "ipython3",
   "version": "3.7.6"
  }
 },
 "nbformat": 4,
 "nbformat_minor": 2
}
