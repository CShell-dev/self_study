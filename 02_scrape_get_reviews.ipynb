{
 "cells": [
  {
   "cell_type": "markdown",
   "metadata": {},
   "source": [
    "# Class for reviews"
   ]
  },
  {
   "cell_type": "code",
   "execution_count": 1,
   "metadata": {
    "collapsed": true
   },
   "outputs": [],
   "source": [
    "import time\n",
    "import random\n",
    "from bs4 import BeautifulSoup\n",
    "\n",
    "class product_reviews(object):\n",
    "    \n",
    "    def __init__(self,driver,link):\n",
    "        self.driver = driver\n",
    "        self.reviews_for_product(link)\n",
    "        \n",
    "    def reviews_for_product(self,link):\n",
    "        self.driver.get(link)\n",
    "        reviewlink = self.driver.find_element_by_id(\"dp-summary-see-all-reviews\")\n",
    "        reviewlink.click()\n",
    "        ###\n",
    "        time.sleep(5+random.uniform(0,1))\n",
    "        ###\n",
    "        reviewlink = self.driver.find_element_by_xpath('//*[@id=\"cm_cr-review_list\"]/div[1]/span[5]/a')\n",
    "        reviewlink.click()\n",
    "\n",
    "        reviews = []\n",
    "        while True:\n",
    "            time.sleep(5+random.uniform(0,2))\n",
    "            page = self.driver.page_source\n",
    "            soup = BeautifulSoup(page,\"lxml\")\n",
    "            reviews += self.review_from_page(soup)\n",
    "\n",
    "            if soup.find(\"li\",class_=\"a-last\").find(\"a\",href=True): \n",
    "                #nextpage = self.driver.find_element_by_xpath('//*[@id=\"cm_cr-pagination_bar\"]/ul/li[8]')\n",
    "                nextpage = self.driver.find_element_by_class_name('a-last')\n",
    "                nextpage.click()\n",
    "            else:\n",
    "                break\n",
    "\n",
    "        self.reviews = reviews\n",
    "\n",
    "    def review_from_page(self,soup):\n",
    "        items = soup.find_all(\"div\",class_=\"a-section review\")\n",
    "        reviews = []\n",
    "        for item in items:\n",
    "            reviews.append(self.review(item))\n",
    "        return reviews\n",
    "\n",
    "    def review(self,review_item_soup):\n",
    "        review_dict = {}\n",
    "        review_dict[\"star\"] = review_item_soup.find(\"span\",class_=\"a-icon-alt\").text.split()[0]\n",
    "        review_dict[\"review_title\"] = review_item_soup.find(\"a\",class_=\"a-size-base a-link-normal review-title a-color-base a-text-bold\").text\n",
    "        review_dict[\"author\"] = review_item_soup.find(\"a\",class_=\"a-size-base a-link-normal author\").text\n",
    "        review_dict[\"date\"] = review_item_soup.find(\"span\",class_=\"a-size-base a-color-secondary review-date\").text\n",
    "        review_dict[\"review_text\"] = review_item_soup.find(\"span\",class_=\"a-size-base review-text\").text\n",
    "        return review_dict"
   ]
  },
  {
   "cell_type": "markdown",
   "metadata": {},
   "source": [
    "# Class for products"
   ]
  },
  {
   "cell_type": "code",
   "execution_count": 2,
   "metadata": {},
   "outputs": [],
   "source": [
    "import time\n",
    "import random\n",
    "from bs4 import BeautifulSoup\n",
    "\n",
    "class product_information(object):\n",
    "    \n",
    "    def __init__(self,driver,link):\n",
    "        self.driver = driver\n",
    "        self.link = link\n",
    "        self.driver.get(self.link)\n",
    "        \n",
    "        self.soup = BeautifulSoup(self.driver.page_source,\"lxml\")\n",
    "        self.product_information()\n",
    "\n",
    "    def product_information(self):\n",
    "        information = {}\n",
    "        information[\"title\"] = self.title()\n",
    "        information[\"price\"] = self.price()\n",
    "        information[\"shipping\"] = self.shipping()\n",
    "        information[\"availability\"] = self.availability()\n",
    "        information[\"images\"] = self.images()\n",
    "        information[\"details\"] = self.details()\n",
    "        \n",
    "        information[\"reviews\"] = product_reviews(self.driver,self.link).reviews\n",
    "        \n",
    "        self.information = information\n",
    "\n",
    "    def title(self):\n",
    "        try:\n",
    "            return self.soup.find(\"span\",id=\"productTitle\").text.strip(' \\n')\n",
    "        except:\n",
    "            return \"NA\"\n",
    "        \n",
    "    def images(self):\n",
    "        try:\n",
    "            images = str(self.soup.find(\"div\",class_=\"imgTagWrapper\"))\n",
    "            return [image for image in images.split('\"') if 'https://' in image]\n",
    "        except:\n",
    "            return \"NA\"\n",
    "    \n",
    "    def price(self):\n",
    "        try:\n",
    "            return self.soup.find(\"span\",id=\"priceblock_ourprice\").text\n",
    "        except:\n",
    "            return \"NA\"\n",
    "        \n",
    "    \n",
    "    def shipping(self):\n",
    "        try:\n",
    "            return self.soup.find(\"span\",id=\"price-shipping-message\").text.strip(' \\n')\n",
    "        except:\n",
    "            return \"NA\"\n",
    "    \n",
    "    def availability(self):\n",
    "        try:\n",
    "            tmplist = self.soup.find(\"div\",id=\"availability-brief\").text.split(\"\\n\")\n",
    "            return \" \".join([s.strip() for s in tmplist if s.strip()])\n",
    "        except:\n",
    "            return \"NA\"\n",
    "        \n",
    "    def details(self):\n",
    "        #try:\n",
    "        details = self.soup.find_all(\"div\",class_=\"attrG\")\n",
    "        detail_list = []\n",
    "        for detail in details:\n",
    "            for td in detail.find_all(\"td\"):\n",
    "                if td.text != u'\\xa0':\n",
    "                    tmp = \" \".join([el for el in td.text.split('\\n') if el])\n",
    "                    detail_list.append(tmp.split(\";\")[-1])\n",
    "        return {detail_list[2*i]:detail_list[2*i+1] for i in range(len(detail_list)/2)}\n",
    "        #except:\n",
    "        #    return \"NA\""
   ]
  },
  {
   "cell_type": "markdown",
   "metadata": {},
   "source": [
    "## main"
   ]
  },
  {
   "cell_type": "code",
   "execution_count": 3,
   "metadata": {
    "collapsed": true
   },
   "outputs": [],
   "source": [
    "f = open(\"links.dat\",\"r\")\n",
    "lines = f.readlines()\n",
    "f.close()"
   ]
  },
  {
   "cell_type": "code",
   "execution_count": 4,
   "metadata": {
    "collapsed": true
   },
   "outputs": [],
   "source": [
    "from selenium import webdriver\n",
    "import time\n",
    "import os\n",
    "import json\n",
    "\n",
    "chromedriver = \"/Applications/chromedriver\"\n",
    "os.environ[\"webdriver.chrome.driver\"] = chromedriver\n",
    "driver = webdriver.Chrome(chromedriver)"
   ]
  },
  {
   "cell_type": "code",
   "execution_count": 41,
   "metadata": {},
   "outputs": [],
   "source": [
    "# prod = product_information(driver,link)\n",
    "# data = prod.information\n",
    "# with open(data[\"details\"]['ASIN']+'.json', 'w') as fp:\n",
    "#     json.dump(data, fp)"
   ]
  },
  {
   "cell_type": "code",
   "execution_count": 67,
   "metadata": {},
   "outputs": [],
   "source": [
    "# page = driver.page_source\n",
    "# soup = BeautifulSoup(page,'lxml')\n",
    "# for el in soup.find_all(\"div\",class_=\"attrG\"):\n",
    "#     print el.text"
   ]
  },
  {
   "cell_type": "code",
   "execution_count": 71,
   "metadata": {},
   "outputs": [
    {
     "name": "stdout",
     "output_type": "stream",
     "text": [
      "L15L16L17L18L19L20L21L22L23L24"
     ]
    },
    {
     "ename": "TimeoutException",
     "evalue": "Message: timeout\n  (Session info: chrome=58.0.3029.110)\n  (Driver info: chromedriver=2.29.461585 (0be2cd95f834e9ee7c46bcc7cf405b483f5ae83b),platform=Mac OS X 10.12.4 x86_64)\n",
     "output_type": "error",
     "traceback": [
      "\u001b[0;31m---------------------------------------------------------------------------\u001b[0m",
      "\u001b[0;31mTimeoutException\u001b[0m                          Traceback (most recent call last)",
      "\u001b[0;32m<ipython-input-71-9642beb50cf8>\u001b[0m in \u001b[0;36m<module>\u001b[0;34m()\u001b[0m\n\u001b[1;32m      5\u001b[0m     \u001b[0mlink\u001b[0m \u001b[0;34m=\u001b[0m \u001b[0mlines\u001b[0m\u001b[0;34m[\u001b[0m\u001b[0mi\u001b[0m\u001b[0;34m]\u001b[0m\u001b[0;34m\u001b[0m\u001b[0m\n\u001b[1;32m      6\u001b[0m     \u001b[0mtime\u001b[0m\u001b[0;34m.\u001b[0m\u001b[0msleep\u001b[0m\u001b[0;34m(\u001b[0m\u001b[0;36m3\u001b[0m\u001b[0;34m+\u001b[0m\u001b[0mrandom\u001b[0m\u001b[0;34m.\u001b[0m\u001b[0muniform\u001b[0m\u001b[0;34m(\u001b[0m\u001b[0;36m0\u001b[0m\u001b[0;34m,\u001b[0m\u001b[0;36m3\u001b[0m\u001b[0;34m)\u001b[0m\u001b[0;34m)\u001b[0m\u001b[0;34m\u001b[0m\u001b[0m\n\u001b[0;32m----> 7\u001b[0;31m     \u001b[0mprod\u001b[0m \u001b[0;34m=\u001b[0m \u001b[0mproduct_information\u001b[0m\u001b[0;34m(\u001b[0m\u001b[0mdriver\u001b[0m\u001b[0;34m,\u001b[0m\u001b[0mlink\u001b[0m\u001b[0;34m)\u001b[0m\u001b[0;34m\u001b[0m\u001b[0m\n\u001b[0m\u001b[1;32m      8\u001b[0m     \u001b[0mdata\u001b[0m \u001b[0;34m=\u001b[0m \u001b[0mprod\u001b[0m\u001b[0;34m.\u001b[0m\u001b[0minformation\u001b[0m\u001b[0;34m\u001b[0m\u001b[0m\n\u001b[1;32m      9\u001b[0m     \u001b[0;31m#sys.stdout.write(\"L\"+str(i))\u001b[0m\u001b[0;34m\u001b[0m\u001b[0;34m\u001b[0m\u001b[0m\n",
      "\u001b[0;32m<ipython-input-65-2e4f324c28f6>\u001b[0m in \u001b[0;36m__init__\u001b[0;34m(self, driver, link)\u001b[0m\n\u001b[1;32m      8\u001b[0m         \u001b[0mself\u001b[0m\u001b[0;34m.\u001b[0m\u001b[0mdriver\u001b[0m \u001b[0;34m=\u001b[0m \u001b[0mdriver\u001b[0m\u001b[0;34m\u001b[0m\u001b[0m\n\u001b[1;32m      9\u001b[0m         \u001b[0mself\u001b[0m\u001b[0;34m.\u001b[0m\u001b[0mlink\u001b[0m \u001b[0;34m=\u001b[0m \u001b[0mlink\u001b[0m\u001b[0;34m\u001b[0m\u001b[0m\n\u001b[0;32m---> 10\u001b[0;31m         \u001b[0mself\u001b[0m\u001b[0;34m.\u001b[0m\u001b[0mdriver\u001b[0m\u001b[0;34m.\u001b[0m\u001b[0mget\u001b[0m\u001b[0;34m(\u001b[0m\u001b[0mself\u001b[0m\u001b[0;34m.\u001b[0m\u001b[0mlink\u001b[0m\u001b[0;34m)\u001b[0m\u001b[0;34m\u001b[0m\u001b[0m\n\u001b[0m\u001b[1;32m     11\u001b[0m \u001b[0;34m\u001b[0m\u001b[0m\n\u001b[1;32m     12\u001b[0m         \u001b[0mself\u001b[0m\u001b[0;34m.\u001b[0m\u001b[0msoup\u001b[0m \u001b[0;34m=\u001b[0m \u001b[0mBeautifulSoup\u001b[0m\u001b[0;34m(\u001b[0m\u001b[0mself\u001b[0m\u001b[0;34m.\u001b[0m\u001b[0mdriver\u001b[0m\u001b[0;34m.\u001b[0m\u001b[0mpage_source\u001b[0m\u001b[0;34m,\u001b[0m\u001b[0;34m\"lxml\"\u001b[0m\u001b[0;34m)\u001b[0m\u001b[0;34m\u001b[0m\u001b[0m\n",
      "\u001b[0;32m/Users/guoli/anaconda2/lib/python2.7/site-packages/selenium/webdriver/remote/webdriver.pyc\u001b[0m in \u001b[0;36mget\u001b[0;34m(self, url)\u001b[0m\n\u001b[1;32m    259\u001b[0m         \u001b[0mLoads\u001b[0m \u001b[0ma\u001b[0m \u001b[0mweb\u001b[0m \u001b[0mpage\u001b[0m \u001b[0;32min\u001b[0m \u001b[0mthe\u001b[0m \u001b[0mcurrent\u001b[0m \u001b[0mbrowser\u001b[0m \u001b[0msession\u001b[0m\u001b[0;34m.\u001b[0m\u001b[0;34m\u001b[0m\u001b[0m\n\u001b[1;32m    260\u001b[0m         \"\"\"\n\u001b[0;32m--> 261\u001b[0;31m         \u001b[0mself\u001b[0m\u001b[0;34m.\u001b[0m\u001b[0mexecute\u001b[0m\u001b[0;34m(\u001b[0m\u001b[0mCommand\u001b[0m\u001b[0;34m.\u001b[0m\u001b[0mGET\u001b[0m\u001b[0;34m,\u001b[0m \u001b[0;34m{\u001b[0m\u001b[0;34m'url'\u001b[0m\u001b[0;34m:\u001b[0m \u001b[0murl\u001b[0m\u001b[0;34m}\u001b[0m\u001b[0;34m)\u001b[0m\u001b[0;34m\u001b[0m\u001b[0m\n\u001b[0m\u001b[1;32m    262\u001b[0m \u001b[0;34m\u001b[0m\u001b[0m\n\u001b[1;32m    263\u001b[0m     \u001b[0;34m@\u001b[0m\u001b[0mproperty\u001b[0m\u001b[0;34m\u001b[0m\u001b[0m\n",
      "\u001b[0;32m/Users/guoli/anaconda2/lib/python2.7/site-packages/selenium/webdriver/remote/webdriver.pyc\u001b[0m in \u001b[0;36mexecute\u001b[0;34m(self, driver_command, params)\u001b[0m\n\u001b[1;32m    247\u001b[0m         \u001b[0mresponse\u001b[0m \u001b[0;34m=\u001b[0m \u001b[0mself\u001b[0m\u001b[0;34m.\u001b[0m\u001b[0mcommand_executor\u001b[0m\u001b[0;34m.\u001b[0m\u001b[0mexecute\u001b[0m\u001b[0;34m(\u001b[0m\u001b[0mdriver_command\u001b[0m\u001b[0;34m,\u001b[0m \u001b[0mparams\u001b[0m\u001b[0;34m)\u001b[0m\u001b[0;34m\u001b[0m\u001b[0m\n\u001b[1;32m    248\u001b[0m         \u001b[0;32mif\u001b[0m \u001b[0mresponse\u001b[0m\u001b[0;34m:\u001b[0m\u001b[0;34m\u001b[0m\u001b[0m\n\u001b[0;32m--> 249\u001b[0;31m             \u001b[0mself\u001b[0m\u001b[0;34m.\u001b[0m\u001b[0merror_handler\u001b[0m\u001b[0;34m.\u001b[0m\u001b[0mcheck_response\u001b[0m\u001b[0;34m(\u001b[0m\u001b[0mresponse\u001b[0m\u001b[0;34m)\u001b[0m\u001b[0;34m\u001b[0m\u001b[0m\n\u001b[0m\u001b[1;32m    250\u001b[0m             response['value'] = self._unwrap_value(\n\u001b[1;32m    251\u001b[0m                 response.get('value', None))\n",
      "\u001b[0;32m/Users/guoli/anaconda2/lib/python2.7/site-packages/selenium/webdriver/remote/errorhandler.pyc\u001b[0m in \u001b[0;36mcheck_response\u001b[0;34m(self, response)\u001b[0m\n\u001b[1;32m    191\u001b[0m         \u001b[0;32melif\u001b[0m \u001b[0mexception_class\u001b[0m \u001b[0;34m==\u001b[0m \u001b[0mUnexpectedAlertPresentException\u001b[0m \u001b[0;32mand\u001b[0m \u001b[0;34m'alert'\u001b[0m \u001b[0;32min\u001b[0m \u001b[0mvalue\u001b[0m\u001b[0;34m:\u001b[0m\u001b[0;34m\u001b[0m\u001b[0m\n\u001b[1;32m    192\u001b[0m             \u001b[0;32mraise\u001b[0m \u001b[0mexception_class\u001b[0m\u001b[0;34m(\u001b[0m\u001b[0mmessage\u001b[0m\u001b[0;34m,\u001b[0m \u001b[0mscreen\u001b[0m\u001b[0;34m,\u001b[0m \u001b[0mstacktrace\u001b[0m\u001b[0;34m,\u001b[0m \u001b[0mvalue\u001b[0m\u001b[0;34m[\u001b[0m\u001b[0;34m'alert'\u001b[0m\u001b[0;34m]\u001b[0m\u001b[0;34m.\u001b[0m\u001b[0mget\u001b[0m\u001b[0;34m(\u001b[0m\u001b[0;34m'text'\u001b[0m\u001b[0;34m)\u001b[0m\u001b[0;34m)\u001b[0m\u001b[0;34m\u001b[0m\u001b[0m\n\u001b[0;32m--> 193\u001b[0;31m         \u001b[0;32mraise\u001b[0m \u001b[0mexception_class\u001b[0m\u001b[0;34m(\u001b[0m\u001b[0mmessage\u001b[0m\u001b[0;34m,\u001b[0m \u001b[0mscreen\u001b[0m\u001b[0;34m,\u001b[0m \u001b[0mstacktrace\u001b[0m\u001b[0;34m)\u001b[0m\u001b[0;34m\u001b[0m\u001b[0m\n\u001b[0m\u001b[1;32m    194\u001b[0m \u001b[0;34m\u001b[0m\u001b[0m\n\u001b[1;32m    195\u001b[0m     \u001b[0;32mdef\u001b[0m \u001b[0m_value_or_default\u001b[0m\u001b[0;34m(\u001b[0m\u001b[0mself\u001b[0m\u001b[0;34m,\u001b[0m \u001b[0mobj\u001b[0m\u001b[0;34m,\u001b[0m \u001b[0mkey\u001b[0m\u001b[0;34m,\u001b[0m \u001b[0mdefault\u001b[0m\u001b[0;34m)\u001b[0m\u001b[0;34m:\u001b[0m\u001b[0;34m\u001b[0m\u001b[0m\n",
      "\u001b[0;31mTimeoutException\u001b[0m: Message: timeout\n  (Session info: chrome=58.0.3029.110)\n  (Driver info: chromedriver=2.29.461585 (0be2cd95f834e9ee7c46bcc7cf405b483f5ae83b),platform=Mac OS X 10.12.4 x86_64)\n"
     ]
    }
   ],
   "source": [
    "import sys\n",
    "\n",
    "L = len(lines)\n",
    "for i in range(25,L):\n",
    "    link = lines[i]\n",
    "    time.sleep(3+random.uniform(0,3))\n",
    "    prod = product_information(driver,link)\n",
    "    data = prod.information\n",
    "    #sys.stdout.write(\"L\"+str(i))\n",
    "    with open(data[\"details\"]['ASIN']+'.json', 'w') as fp:\n",
    "        json.dump(data, fp)\n",
    "    sys.stdout.write(\"L\"+str(i))"
   ]
  },
  {
   "cell_type": "code",
   "execution_count": 5,
   "metadata": {},
   "outputs": [
    {
     "ename": "NameError",
     "evalue": "name 'sys' is not defined",
     "output_type": "error",
     "traceback": [
      "\u001b[0;31m---------------------------------------------------------------------------\u001b[0m",
      "\u001b[0;31mNameError\u001b[0m                                 Traceback (most recent call last)",
      "\u001b[0;32m<ipython-input-5-4e17de30866a>\u001b[0m in \u001b[0;36m<module>\u001b[0;34m()\u001b[0m\n\u001b[1;32m     14\u001b[0m         \u001b[0mi\u001b[0m \u001b[0;34m+=\u001b[0m \u001b[0;36m1\u001b[0m\u001b[0;34m\u001b[0m\u001b[0m\n\u001b[1;32m     15\u001b[0m     \u001b[0;32mexcept\u001b[0m\u001b[0;34m:\u001b[0m\u001b[0;34m\u001b[0m\u001b[0m\n\u001b[0;32m---> 16\u001b[0;31m         \u001b[0msys\u001b[0m\u001b[0;34m.\u001b[0m\u001b[0mstdout\u001b[0m\u001b[0;34m.\u001b[0m\u001b[0mwrite\u001b[0m\u001b[0;34m(\u001b[0m\u001b[0;34m\"P\"\u001b[0m\u001b[0;34m)\u001b[0m\u001b[0;34m\u001b[0m\u001b[0m\n\u001b[0m\u001b[1;32m     17\u001b[0m         \u001b[0mtime\u001b[0m\u001b[0;34m.\u001b[0m\u001b[0msleep\u001b[0m\u001b[0;34m(\u001b[0m\u001b[0;36m1800\u001b[0m\u001b[0;34m+\u001b[0m\u001b[0mrandom\u001b[0m\u001b[0;34m.\u001b[0m\u001b[0muniform\u001b[0m\u001b[0;34m(\u001b[0m\u001b[0;36m0\u001b[0m\u001b[0;34m,\u001b[0m\u001b[0;36m300\u001b[0m\u001b[0;34m)\u001b[0m\u001b[0;34m)\u001b[0m\u001b[0;34m\u001b[0m\u001b[0m\n",
      "\u001b[0;31mNameError\u001b[0m: name 'sys' is not defined"
     ]
    }
   ],
   "source": [
    "L = len(lines)\n",
    "i = 45\n",
    "while i<L:\n",
    "    try:\n",
    "        link = lines[i]\n",
    "        #print link\n",
    "        time.sleep(5+random.uniform(0,2))\n",
    "        prod = product_information(driver,link)\n",
    "        data = prod.information\n",
    "        #sys.stdout.write(\"L\"+str(i))\n",
    "        with open(data[\"details\"]['ASIN']+'.json', 'w') as fp:\n",
    "            json.dump(data, fp)\n",
    "        sys.stdout.write(\"L\"+str(i))\n",
    "        i += 1\n",
    "    except:\n",
    "        sys.stdout.write(\"P\")\n",
    "        time.sleep(1800+random.uniform(0,300))"
   ]
  },
  {
   "cell_type": "code",
   "execution_count": null,
   "metadata": {
    "collapsed": true
   },
   "outputs": [],
   "source": [
    "https://www.amazon.com/gp/goldbox/ref=sr_deal_ldhttps://www.amazon.com/Summer-Infant-3Dflip-Convenience-Stroller/dp/B00OZJ6MQI/ref=sr_1_25_s_it?s=baby-products&ie=UTF8&qid=1495584358&sr=1-25&keywords=stroller\n"
   ]
  }
 ],
 "metadata": {
  "kernelspec": {
   "display_name": "Python 3",
   "language": "python",
   "name": "python3"
  },
  "language_info": {
   "codemirror_mode": {
    "name": "ipython",
    "version": 3
   },
   "file_extension": ".py",
   "mimetype": "text/x-python",
   "name": "python",
   "nbconvert_exporter": "python",
   "pygments_lexer": "ipython3",
   "version": "3.7.4"
  }
 },
 "nbformat": 4,
 "nbformat_minor": 2
}
